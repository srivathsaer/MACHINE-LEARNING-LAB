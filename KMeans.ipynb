{
 "cells": [
  {
   "cell_type": "code",
   "execution_count": 73,
   "metadata": {},
   "outputs": [
    {
     "name": "stdout",
     "output_type": "stream",
     "text": [
      "[1 1 1 1 1 1 1 1 1 1 1 1 1 1 1 1 1 1 1 1 1 1 1 1 1 1 1 1 1 1 1 1 1 1 1 1 1\n",
      " 1 1 1 1 1 1 1 1 1 1 1 1 1 2 2 2 2 2 2 2 2 2 2 2 2 2 2 2 2 2 2 2 2 2 2 2 2\n",
      " 2 2 2 0 2 2 2 2 2 0 2 2 2 2 2 2 2 2 2 2 2 2 2 2 2 2 0 0 0 0 0 0 2 0 0 0 0\n",
      " 0 0 0 0 0 0 0 0 2 0 0 0 0 0 0 2 0 0 0 0 0 0 0 0 0 0 0 2 0 0 0 0 0 0 0 0 0\n",
      " 0 0]\n"
     ]
    },
    {
     "data": {
      "text/plain": [
       "[<matplotlib.lines.Line2D at 0x24ebdfa9108>]"
      ]
     },
     "execution_count": 73,
     "metadata": {},
     "output_type": "execute_result"
    },
    {
     "data": {
      "image/png": "[encoded data removed]",
      "text/plain": [
       "<Figure size 432x288 with 1 Axes>"
      ]
     },
     "metadata": {
      "needs_background": "light"
     },
     "output_type": "display_data"
    }
   ],
   "source": [
    "from sklearn.cluster import KMeans\n",
    "import pandas as pd\n",
    "from sklearn.preprocessing import MinMaxScaler \n",
    "from matplotlib import pyplot as plt\n",
    " \n",
    "df=pd.read_csv('iris2.csv') \n",
    "df.drop(['sepal.length','sepal.width',],axis='columns',inplace=True)\n",
    "df.head() \n",
    "plt.scatter(df['petal.length'],df['petal.width']) \n",
    "plt.xlabel('length') \n",
    "plt.ylabel('width') \n",
    "km=KMeans(n_clusters=3) \n",
    "yp=km.fit_predict(df)\n",
    "print(yp) \n",
    "df['cluster']=yp \n",
    "df.head(2) \n",
    "df1=df[df.cluster==0]\n",
    "df2=(df[df.cluster==1]) \n",
    "df3=(df[df.cluster==2]) \n",
    "plt.scatter(df1['petal.length'],df1['petal.width'],color='blue') \n",
    "plt.scatter(df2['petal.length'],df2['petal.width'],color='green') \n",
    "plt.scatter(df3['petal.length'],df3['petal.width'],color='red') \n",
    "#Elbo graph \n",
    "sse=[] \n",
    "k_rng=range(1,10) \n",
    "for k in k_rng:\n",
    "    km=KMeans(n_clusters=k)\n",
    "    km.fit(df)\n",
    "    sse.append(km.inertia_) \n",
    "plt.xlabel('K') \n",
    "plt.ylabel('Sum of squared error') \n",
    "plt.plot(k_rng,sse)"
   ]
  }
 ],
 "metadata": {
  "kernelspec": {
   "display_name": "Python 3",
   "language": "python",
   "name": "python3"
  },
  "language_info": {
   "codemirror_mode": {
    "name": "ipython",
    "version": 3
   },
   "file_extension": ".py",
   "mimetype": "text/x-python",
   "name": "python",
   "nbconvert_exporter": "python",
   "pygments_lexer": "ipython3",
   "version": "3.7.4"
  }
 },
 "nbformat": 4,
 "nbformat_minor": 2
}
